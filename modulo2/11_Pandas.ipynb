{
 "cells": [
  {
   "cell_type": "markdown",
   "metadata": {
    "id": "teeE-jlqUDhj"
   },
   "source": [
    "# Manipulación de archivos CSV\n",
    "\n",
    "Workshop: Python para la industria 4.0 --- Ingelearn\n",
    "\n",
    "Instructor: Ignacio Lavaggi\n",
    "\n",
    "Los archivos CSV son una de las formas más comunes de almacenar información.\n",
    "Son aimples archivos de texto, que separan las \"columnas\" usando algún caracter, usualmente la coma \",\" o el punto y coma \";\"\n",
    "\n",
    "Ejemplo:\n",
    "\n",
    "Nro_Medicion,Presion,Temperatura,Humedad\n",
    "\n",
    "1                     ,10         ,20                 ,4\n",
    "\n",
    "2                     ,11         ,21                 ,3"
   ]
  },
  {
   "cell_type": "markdown",
   "metadata": {
    "id": "UBEOCjcJVZ9B"
   },
   "source": [
    "## Paso 1: Leer los datos"
   ]
  },
  {
   "cell_type": "code",
   "execution_count": 2,
   "metadata": {
    "id": "I4MhrodSLrVT"
   },
   "outputs": [
    {
     "ename": "AttributeError",
     "evalue": "module 'pandas' has no attribute 'read_csv'",
     "output_type": "error",
     "traceback": [
      "\u001b[1;31m---------------------------------------------------------------------------\u001b[0m",
      "\u001b[1;31mAttributeError\u001b[0m                            Traceback (most recent call last)",
      "Cell \u001b[1;32mIn[2], line 15\u001b[0m\n\u001b[0;32m     11\u001b[0m ruta \u001b[38;5;241m=\u001b[39m \u001b[38;5;124m'\u001b[39m\u001b[38;5;124mhttps://drive.google.com/uc?export=download&id=\u001b[39m\u001b[38;5;124m'\u001b[39m\u001b[38;5;241m+\u001b[39murl\u001b[38;5;241m.\u001b[39msplit(\u001b[38;5;124m'\u001b[39m\u001b[38;5;124m/\u001b[39m\u001b[38;5;124m'\u001b[39m)[\u001b[38;5;241m-\u001b[39m\u001b[38;5;241m2\u001b[39m]\n\u001b[0;32m     13\u001b[0m \u001b[38;5;66;03m#Leemos el archivo\u001b[39;00m\n\u001b[0;32m     14\u001b[0m \u001b[38;5;66;03m#df = pd.read_csv(\"PetroleoArg.csv\")\u001b[39;00m\n\u001b[1;32m---> 15\u001b[0m df \u001b[38;5;241m=\u001b[39m \u001b[43mpd\u001b[49m\u001b[38;5;241;43m.\u001b[39;49m\u001b[43mread_csv\u001b[49m(ruta)\n\u001b[0;32m     17\u001b[0m \u001b[38;5;66;03m#Trabajamos con un archivo reducido para que sea más cómodo.\u001b[39;00m\n",
      "\u001b[1;31mAttributeError\u001b[0m: module 'pandas' has no attribute 'read_csv'"
     ]
    }
   ],
   "source": [
    "import pandas as pd\n",
    "# Si queremos leer un archivo local:\n",
    "#df = pd.read_csv(\"PetroleoArg.csv\", delimiter=\",\")\n",
    "\n",
    "# ----------------------------------------------------------\n",
    "# Si queremos leer un archivo remoto, como en Google Drive:\n",
    "\n",
    "#1. Pegar el enlace desde \"compartir\" de Google Drive. Debe ser un archivo menor a 100 MB.\n",
    "url = 'https://drive.google.com/file/d/1cgX4y1tfwF1XeqkPG3eVqKYouLCLCjOW/view?usp=sharing'\n",
    "# 2. Esta línea es auxiliar, no se modifica.\n",
    "ruta = 'https://drive.google.com/uc?export=download&id='+url.split('/')[-2]\n",
    "\n",
    "#Leemos el archivo\n",
    "#df = pd.read_csv(\"PetroleoArg.csv\")\n",
    "df = pd.read_csv(ruta)\n",
    "\n",
    "#Trabajamos con un archivo reducido para que sea más cómodo.\n"
   ]
  },
  {
   "cell_type": "code",
   "execution_count": null,
   "metadata": {
    "id": "xamBnPKwLrVW"
   },
   "outputs": [],
   "source": [
    "df.head()"
   ]
  },
  {
   "cell_type": "code",
   "execution_count": null,
   "metadata": {
    "id": "WLk9wm_91Lhh"
   },
   "outputs": [],
   "source": [
    "df.shape"
   ]
  },
  {
   "cell_type": "code",
   "execution_count": null,
   "metadata": {
    "id": "pWwIaZpb9h-l"
   },
   "outputs": [],
   "source": [
    "df.provincia.unique()"
   ]
  },
  {
   "cell_type": "markdown",
   "metadata": {
    "id": "sohNHF7DVd_q"
   },
   "source": [
    "## Paso 2: Interpretar los datos\n",
    "Vamos a analizar la información. Separamos aquellas columnas que nos interesan y descartamos las que no"
   ]
  },
  {
   "cell_type": "code",
   "execution_count": null,
   "metadata": {
    "id": "gULaOdotLrVW"
   },
   "outputs": [],
   "source": [
    "columnas_interesantes = [\"empresa\",\"anio\",\"mes\",\"provincia\",\"cantidad\",\"indice_tiempo\",\"areayacimiento\",\"concepto\",\"cuenca\"]\n",
    "\n",
    "datos = df[columnas_interesantes]\n",
    "datos"
   ]
  },
  {
   "cell_type": "markdown",
   "metadata": {
    "id": "kagV_CebV0wn"
   },
   "source": [
    "## Paso 3: Procesar los datos\n",
    "A partir de aquí, tenemos nuestros datos listos para filtrarlos, agruparlos, y graficarlos, revelando más información que la que hay disponible a simple vista mirando el DataFrame"
   ]
  },
  {
   "cell_type": "markdown",
   "metadata": {
    "id": "oo2n-LO2WFMQ"
   },
   "source": [
    "### Agrupamos los datos por año"
   ]
  },
  {
   "cell_type": "code",
   "execution_count": null,
   "metadata": {
    "id": "p2vlgrMxEA0G"
   },
   "outputs": [],
   "source": [
    "promEmpresa = datos.groupby([\"anio\"])\n",
    "promEmpresa.cantidad.mean()"
   ]
  },
  {
   "cell_type": "code",
   "execution_count": null,
   "metadata": {
    "id": "4e_x5-ocLrVW"
   },
   "outputs": [],
   "source": [
    "promEmpresa = datos.groupby([\"anio\"]).cantidad.mean()\n",
    "promEmpresa"
   ]
  },
  {
   "cell_type": "markdown",
   "metadata": {
    "id": "EDxngRVYXiTn"
   },
   "source": [
    "Lo convertimos a \"tabla\" agregando nuevamente los índices"
   ]
  },
  {
   "cell_type": "code",
   "execution_count": null,
   "metadata": {
    "id": "w1_0uA77LrVX"
   },
   "outputs": [],
   "source": [
    "promEmpresa = promEmpresa.reset_index()\n",
    "promEmpresa"
   ]
  },
  {
   "cell_type": "code",
   "execution_count": null,
   "metadata": {
    "id": "qz6bjyWN-RtE"
   },
   "outputs": [],
   "source": [
    "import matplotlib.pyplot as plt\n",
    "\n",
    "plt.plot(promEmpresa.anio,promEmpresa.cantidad)"
   ]
  },
  {
   "cell_type": "markdown",
   "metadata": {
    "id": "q4t4NIw0X3En"
   },
   "source": [
    "## Paso 4: Graficamos\n",
    "\n",
    "Usamos las bibliotecas MatPlotLib que vimos anteriormente, y Seaborn para darle un mejor formato"
   ]
  },
  {
   "cell_type": "code",
   "execution_count": null,
   "metadata": {
    "id": "ZLDIuArxLrVY"
   },
   "outputs": [],
   "source": [
    "import seaborn as sns\n",
    "import matplotlib.pyplot as plt\n",
    "\n",
    "plt.figure(figsize=(15,6))\n",
    "ax = sns.barplot(x=\"anio\", y=\"cantidad\", hue=\"anio\", data=promEmpresa, lw=0)\n",
    "\n",
    "plt.xlabel('Año')\n",
    "plt.ylabel('Promedio de producción por año')\n",
    "plt.savefig('leyenda.png', bbox_inches='tight')\n",
    "# OPCIONAL: Eliminar la leyenda del gráfico\n",
    "plt.legend().remove()\n",
    "\n",
    "# OPCIONAL: Guardar el gráfico en la PC o el PLC\n",
    "plt.savefig(\"Promedios.png\")\n",
    "# Mostrar el gráfico sin leyenda\n",
    "plt.show()\n"
   ]
  },
  {
   "cell_type": "markdown",
   "metadata": {
    "id": "34T8VeY4YeSG"
   },
   "source": [
    "## Paso 5: Vamos más allá!\n",
    "\n",
    "Filtremos la producción, pero solamente de una región.\n"
   ]
  },
  {
   "cell_type": "code",
   "execution_count": null,
   "metadata": {
    "id": "EvFSIpqZLrVY"
   },
   "outputs": [],
   "source": [
    "soloYPF = datos.query(\"empresa == 'YPF S.A.' and provincia == 'Neuquén'\")\n",
    "soloYPF"
   ]
  },
  {
   "cell_type": "markdown",
   "metadata": {
    "id": "ZI-gzpt_Y3NV"
   },
   "source": [
    "Graficamos, ésta vez con líneas"
   ]
  },
  {
   "cell_type": "code",
   "execution_count": null,
   "metadata": {
    "id": "EK30YZfLLrVZ"
   },
   "outputs": [],
   "source": [
    "plt.figure(figsize=(20,8))\n",
    "\n",
    "ax = sns.lineplot(x=\"indice_tiempo\", y=\"cantidad\", hue=\"anio\", data=soloYPF)\n",
    "\n",
    "plt.xlabel('Fecha')\n",
    "plt.style.use('ggplot')\n",
    "plt.autoscale(enable=True, axis='x', tight=True)\n",
    "\n",
    "plt.ylabel('Producción de YPF en la provincia de Neuquén, M3')\n",
    "plt.xticks(rotation=45)\n",
    "plt.show()\n"
   ]
  },
  {
   "cell_type": "code",
   "execution_count": null,
   "metadata": {
    "id": "2oqM3NUF8kkP"
   },
   "outputs": [],
   "source": []
  }
 ],
 "metadata": {
  "colab": {
   "provenance": []
  },
  "kernelspec": {
   "display_name": "Python 3",
   "language": "python",
   "name": "python3"
  },
  "language_info": {
   "codemirror_mode": {
    "name": "ipython",
    "version": 3
   },
   "file_extension": ".py",
   "mimetype": "text/x-python",
   "name": "python",
   "nbconvert_exporter": "python",
   "pygments_lexer": "ipython3",
   "version": "3.11.9"
  },
  "orig_nbformat": 4
 },
 "nbformat": 4,
 "nbformat_minor": 0
}

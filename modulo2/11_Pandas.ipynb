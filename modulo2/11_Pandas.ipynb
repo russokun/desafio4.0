{
  "cells": [
    {
      "cell_type": "markdown",
      "source": [
        "# Manipulación de archivos CSV\n",
        "\n",
        "Workshop: Python para la industria 4.0 --- Ingelearn\n",
        "\n",
        "Instructor: Ignacio Lavaggi\n",
        "\n",
        "Los archivos CSV son una de las formas más comunes de almacenar información.\n",
        "Son aimples archivos de texto, que separan las \"columnas\" usando algún caracter, usualmente la coma \",\" o el punto y coma \";\"\n",
        "\n",
        "Ejemplo:\n",
        "\n",
        "Nro_Medicion,Presion,Temperatura,Humedad\n",
        "\n",
        "1                     ,10         ,20                 ,4\n",
        "\n",
        "2                     ,11         ,21                 ,3"
      ],
      "metadata": {
        "id": "teeE-jlqUDhj"
      }
    },
    {
      "cell_type": "markdown",
      "source": [
        "## Paso 1: Leer los datos"
      ],
      "metadata": {
        "id": "UBEOCjcJVZ9B"
      }
    },
    {
      "cell_type": "code",
      "execution_count": null,
      "metadata": {
        "id": "I4MhrodSLrVT"
      },
      "outputs": [],
      "source": [
        "import pandas as pd\n",
        "# Si queremos leer un archivo local:\n",
        "#df = pd.read_csv(\"PetroleoArg.csv\", delimiter=\",\")\n",
        "\n",
        "# ----------------------------------------------------------\n",
        "# Si queremos leer un archivo remoto, como en Google Drive:\n",
        "\n",
        "#1. Pegar el enlace desde \"compartir\" de Google Drive. Debe ser un archivo menor a 100 MB.\n",
        "url = 'https://drive.google.com/file/d/1cgX4y1tfwF1XeqkPG3eVqKYouLCLCjOW/view?usp=sharing'\n",
        "# 2. Esta línea es auxiliar, no se modifica.\n",
        "ruta = 'https://drive.google.com/uc?export=download&id='+url.split('/')[-2]\n",
        "\n",
        "#Leemos el archivo\n",
        "#df = pd.read_csv(\"PetroleoArg.csv\")\n",
        "df = pd.read_csv(ruta)\n",
        "\n",
        "#Trabajamos con un archivo reducido para que sea más cómodo.\n"
      ]
    },
    {
      "cell_type": "code",
      "execution_count": null,
      "metadata": {
        "id": "xamBnPKwLrVW"
      },
      "outputs": [],
      "source": [
        "df.head()"
      ]
    },
    {
      "cell_type": "code",
      "source": [
        "df.shape"
      ],
      "metadata": {
        "id": "WLk9wm_91Lhh"
      },
      "execution_count": null,
      "outputs": []
    },
    {
      "cell_type": "code",
      "source": [
        "df.provincia.unique()"
      ],
      "metadata": {
        "id": "pWwIaZpb9h-l"
      },
      "execution_count": null,
      "outputs": []
    },
    {
      "cell_type": "markdown",
      "source": [
        "## Paso 2: Interpretar los datos\n",
        "Vamos a analizar la información. Separamos aquellas columnas que nos interesan y descartamos las que no"
      ],
      "metadata": {
        "id": "sohNHF7DVd_q"
      }
    },
    {
      "cell_type": "code",
      "execution_count": null,
      "metadata": {
        "id": "gULaOdotLrVW"
      },
      "outputs": [],
      "source": [
        "columnas_interesantes = [\"empresa\",\"anio\",\"mes\",\"provincia\",\"cantidad\",\"indice_tiempo\",\"areayacimiento\",\"concepto\",\"cuenca\"]\n",
        "\n",
        "datos = df[columnas_interesantes]\n",
        "datos"
      ]
    },
    {
      "cell_type": "markdown",
      "source": [
        "## Paso 3: Procesar los datos\n",
        "A partir de aquí, tenemos nuestros datos listos para filtrarlos, agruparlos, y graficarlos, revelando más información que la que hay disponible a simple vista mirando el DataFrame"
      ],
      "metadata": {
        "id": "kagV_CebV0wn"
      }
    },
    {
      "cell_type": "markdown",
      "source": [
        "### Agrupamos los datos por año"
      ],
      "metadata": {
        "id": "oo2n-LO2WFMQ"
      }
    },
    {
      "cell_type": "code",
      "source": [
        "promEmpresa = datos.groupby([\"anio\"])\n",
        "promEmpresa.cantidad.mean()"
      ],
      "metadata": {
        "id": "p2vlgrMxEA0G"
      },
      "execution_count": null,
      "outputs": []
    },
    {
      "cell_type": "code",
      "execution_count": null,
      "metadata": {
        "id": "4e_x5-ocLrVW"
      },
      "outputs": [],
      "source": [
        "promEmpresa = datos.groupby([\"anio\"]).cantidad.mean()\n",
        "promEmpresa"
      ]
    },
    {
      "cell_type": "markdown",
      "source": [
        "Lo convertimos a \"tabla\" agregando nuevamente los índices"
      ],
      "metadata": {
        "id": "EDxngRVYXiTn"
      }
    },
    {
      "cell_type": "code",
      "execution_count": null,
      "metadata": {
        "id": "w1_0uA77LrVX"
      },
      "outputs": [],
      "source": [
        "promEmpresa = promEmpresa.reset_index()\n",
        "promEmpresa"
      ]
    },
    {
      "cell_type": "code",
      "source": [
        "import matplotlib.pyplot as plt\n",
        "\n",
        "plt.plot(promEmpresa.anio,promEmpresa.cantidad)"
      ],
      "metadata": {
        "id": "qz6bjyWN-RtE"
      },
      "execution_count": null,
      "outputs": []
    },
    {
      "cell_type": "markdown",
      "source": [
        "## Paso 4: Graficamos\n",
        "\n",
        "Usamos las bibliotecas MatPlotLib que vimos anteriormente, y Seaborn para darle un mejor formato"
      ],
      "metadata": {
        "id": "q4t4NIw0X3En"
      }
    },
    {
      "cell_type": "code",
      "execution_count": null,
      "metadata": {
        "id": "ZLDIuArxLrVY"
      },
      "outputs": [],
      "source": [
        "import seaborn as sns\n",
        "import matplotlib.pyplot as plt\n",
        "\n",
        "plt.figure(figsize=(15,6))\n",
        "ax = sns.barplot(x=\"anio\", y=\"cantidad\", hue=\"anio\", data=promEmpresa, lw=0)\n",
        "\n",
        "plt.xlabel('Año')\n",
        "plt.ylabel('Promedio de producción por año')\n",
        "plt.savefig('leyenda.png', bbox_inches='tight')\n",
        "# OPCIONAL: Eliminar la leyenda del gráfico\n",
        "plt.legend().remove()\n",
        "\n",
        "# OPCIONAL: Guardar el gráfico en la PC o el PLC\n",
        "plt.savefig(\"Promedios.png\")\n",
        "# Mostrar el gráfico sin leyenda\n",
        "plt.show()\n"
      ]
    },
    {
      "cell_type": "markdown",
      "source": [
        "## Paso 5: Vamos más allá!\n",
        "\n",
        "Filtremos la producción, pero solamente de una región.\n"
      ],
      "metadata": {
        "id": "34T8VeY4YeSG"
      }
    },
    {
      "cell_type": "code",
      "execution_count": null,
      "metadata": {
        "id": "EvFSIpqZLrVY"
      },
      "outputs": [],
      "source": [
        "soloYPF = datos.query(\"empresa == 'YPF S.A.' and provincia == 'Neuquén'\")\n",
        "soloYPF"
      ]
    },
    {
      "cell_type": "markdown",
      "source": [
        "Graficamos, ésta vez con líneas"
      ],
      "metadata": {
        "id": "ZI-gzpt_Y3NV"
      }
    },
    {
      "cell_type": "code",
      "execution_count": null,
      "metadata": {
        "id": "EK30YZfLLrVZ"
      },
      "outputs": [],
      "source": [
        "plt.figure(figsize=(20,8))\n",
        "\n",
        "ax = sns.lineplot(x=\"indice_tiempo\", y=\"cantidad\", hue=\"anio\", data=soloYPF)\n",
        "\n",
        "plt.xlabel('Fecha')\n",
        "plt.style.use('ggplot')\n",
        "plt.autoscale(enable=True, axis='x', tight=True)\n",
        "\n",
        "plt.ylabel('Producción de YPF en la provincia de Neuquén, M3')\n",
        "plt.xticks(rotation=45)\n",
        "plt.show()\n"
      ]
    },
    {
      "cell_type": "code",
      "source": [],
      "metadata": {
        "id": "2oqM3NUF8kkP"
      },
      "execution_count": null,
      "outputs": []
    }
  ],
  "metadata": {
    "kernelspec": {
      "display_name": "Python 3",
      "language": "python",
      "name": "python3"
    },
    "language_info": {
      "codemirror_mode": {
        "name": "ipython",
        "version": 3
      },
      "file_extension": ".py",
      "mimetype": "text/x-python",
      "name": "python",
      "nbconvert_exporter": "python",
      "pygments_lexer": "ipython3",
      "version": "3.11.4"
    },
    "orig_nbformat": 4,
    "colab": {
      "provenance": []
    }
  },
  "nbformat": 4,
  "nbformat_minor": 0
}
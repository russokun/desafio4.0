{
 "cells": [
  {
   "cell_type": "markdown",
   "metadata": {},
   "source": [
    "# OpenCV\n",
    "### Trabajamos con imágenes\n",
    "Vamos a utilizar varias herramientas para crear visualizaciones. Comenzamos importando las bibliotecas que usaremos. "
   ]
  },
  {
   "cell_type": "code",
   "execution_count": null,
   "metadata": {},
   "outputs": [],
   "source": [
    "import cv2\n",
    "import matplotlib.pyplot as plt\n",
    "from IPython.display import Image"
   ]
  },
  {
   "cell_type": "markdown",
   "metadata": {},
   "source": [
    "Usaremos la primera herramienta para graficar una imagen. Simple, ¿no?"
   ]
  },
  {
   "cell_type": "code",
   "execution_count": null,
   "metadata": {},
   "outputs": [],
   "source": [
    "# Herramienta no.1: Ipython (Jupyter) Image\n",
    "Image(\"Logo.png\")"
   ]
  },
  {
   "cell_type": "code",
   "execution_count": null,
   "metadata": {},
   "outputs": [],
   "source": [
    "Image(\"manzanas.jpg\")"
   ]
  },
  {
   "cell_type": "markdown",
   "metadata": {},
   "source": [
    "Podemos usar el método _imread_ de OpenCV para leer una imagen.\n",
    "imread tiene un argumento obligatorio (la ruta) y uno opcional (el formato)\n",
    "\n",
    "El formato tiene tres opciones disponibles:\n",
    "\n",
    "- cv2.IMREAD_GRAYSCALE o 0: Carga la imagen en formato \"escala de grises\"\n",
    "- cv2.IMREAD_COLOR o 1: Carga una imagen a color, pero ignora cualquier transparencia. Es la opción por default.\n",
    "- cv2.IMREAD_UNCHANGED o -1: Carga la imagen como tal, cargando el canal de transparencia como corresponde."
   ]
  },
  {
   "cell_type": "code",
   "execution_count": null,
   "metadata": {},
   "outputs": [],
   "source": [
    "sem_img = cv2.imread(\"semaforo.jpg\", cv2.IMREAD_COLOR)\n",
    "plt.imshow(sem_img)"
   ]
  },
  {
   "cell_type": "markdown",
   "metadata": {},
   "source": [
    "#### ¿Qué pasó?\n",
    "El color es distinto, por que matplotlib espera la imagen en RGB (es decir, los canales Rojo, Verde y Azul en ese orden), pero OpenCV guarda las imágenes en formato BGR (Azul-Verde-Rojo). Por ésta razón, para poder \"ver\" el color real, tenemos que invertir los canales rojo y azul. "
   ]
  },
  {
   "cell_type": "markdown",
   "metadata": {},
   "source": [
    "Podemos usar también el método **cvtColor** para cambiar entre canales.\n",
    "\n",
    "Siempre empieza con `cv2.COLOR_` y lo completamos con el origen, y el destino:  \n",
    "Ejemplo: Si queremos pasar de BGR a RGB, hacemos  \n",
    "`cv2.COLOR_BGR2RGB` --> de BGR a RGB **ó** BGR _to (2)_ RGB = `BGR2RGB`"
   ]
  },
  {
   "cell_type": "code",
   "execution_count": null,
   "metadata": {},
   "outputs": [],
   "source": [
    "sem_img_rgb = cv2.cvtColor(sem_img, cv2.COLOR_BGR2RGB)\n",
    "plt.imshow(sem_img_rgb)"
   ]
  },
  {
   "cell_type": "markdown",
   "metadata": {},
   "source": [
    "### Canales de color\n",
    "Cada imagen consta, según el formato, de varios canales. \n",
    "¡Veamos qué son los canales!"
   ]
  },
  {
   "cell_type": "code",
   "execution_count": null,
   "metadata": {},
   "outputs": [],
   "source": [
    "imagen_bgr = cv2.imread(\"manzanas.jpg\", cv2.IMREAD_COLOR)\n",
    "b, g, r = cv2.split(imagen_bgr)\n",
    "\n",
    "# Mostramos los canales por separado\n",
    "plt.figure(figsize=[15, 5])\n",
    "\n",
    "plt.subplot(142)\n",
    "plt.imshow(r, cmap=\"OrRd\");plt.title(\"Rojos\")\n",
    "plt.subplot(143)\n",
    "plt.imshow(g, cmap=\"YlGn\");plt.title(\"Verdes\")\n",
    "plt.subplot(144)\n",
    "plt.imshow(b, cmap=\"Blues\");plt.title(\"Azules\")\n",
    "\n",
    "#Combinamos los tres canales nuevamente\n",
    "imgCombinada = cv2.merge((b, g, r))\n",
    "img_rgb = cv2.cvtColor(imgCombinada, cv2.COLOR_BGR2RGB)\n",
    "# Combinamos y mostramos\n",
    "plt.subplot(141)\n",
    "plt.imshow(img_rgb)\n",
    "plt.tight_layout()\n",
    "plt.title(\"Canales combinados\")\n",
    "plt.show()"
   ]
  }
 ],
 "metadata": {
  "kernelspec": {
   "display_name": "Python 3",
   "language": "python",
   "name": "python3"
  },
  "language_info": {
   "codemirror_mode": {
    "name": "ipython",
    "version": 3
   },
   "file_extension": ".py",
   "mimetype": "text/x-python",
   "name": "python",
   "nbconvert_exporter": "python",
   "pygments_lexer": "ipython3",
   "version": "3.11.4"
  }
 },
 "nbformat": 4,
 "nbformat_minor": 2
}

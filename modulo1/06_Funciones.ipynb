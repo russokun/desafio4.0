{
  "nbformat": 4,
  "nbformat_minor": 0,
  "metadata": {
    "colab": {
      "provenance": []
    },
    "kernelspec": {
      "name": "python3",
      "display_name": "Python 3"
    },
    "language_info": {
      "name": "python"
    }
  },
  "cells": [
    {
      "cell_type": "code",
      "source": [
        "def chequearSensor(sensor, umbral):\n",
        "  if sensor > umbral:\n",
        "    print(\"ALARMA!\")\n",
        "  else:\n",
        "    print(\"Temperatura OK.\")"
      ],
      "metadata": {
        "id": "6lardDnBb3ld"
      },
      "execution_count": null,
      "outputs": []
    },
    {
      "cell_type": "code",
      "execution_count": null,
      "metadata": {
        "id": "JJ0oA5UXYVXx"
      },
      "outputs": [],
      "source": [
        "temperatura1 = 100\n",
        "temperatura2 = 50"
      ]
    },
    {
      "cell_type": "code",
      "source": [
        "chequearSensor(temperatura1, 110)"
      ],
      "metadata": {
        "colab": {
          "base_uri": "https://localhost:8080/"
        },
        "id": "1sqw6ZJycQ4N",
        "outputId": "26fcf326-0088-4cfe-cd0e-5be557ef17e7"
      },
      "execution_count": null,
      "outputs": [
        {
          "output_type": "stream",
          "name": "stdout",
          "text": [
            "Temperatura OK.\n"
          ]
        }
      ]
    },
    {
      "cell_type": "code",
      "source": [
        "import math"
      ],
      "metadata": {
        "id": "CQbPARt6cx8V"
      },
      "execution_count": null,
      "outputs": []
    },
    {
      "cell_type": "code",
      "source": [
        "math.pi"
      ],
      "metadata": {
        "colab": {
          "base_uri": "https://localhost:8080/"
        },
        "id": "CVf7vGATc4nz",
        "outputId": "cc27afd8-cc97-4244-fd0c-6e38b9ce8113"
      },
      "execution_count": null,
      "outputs": [
        {
          "output_type": "execute_result",
          "data": {
            "text/plain": [
              "3.141592653589793"
            ]
          },
          "metadata": {},
          "execution_count": 16
        }
      ]
    },
    {
      "cell_type": "code",
      "source": [
        "def CalcularAreaCirculo(radio):\n",
        "  areaCirculo = math.pi * (radio**2)\n",
        "  print(\"El area del circulo es\", areaCirculo)"
      ],
      "metadata": {
        "id": "6nXMrLcZc53z"
      },
      "execution_count": null,
      "outputs": []
    },
    {
      "cell_type": "code",
      "source": [
        "CalcularAreaCirculo(10)"
      ],
      "metadata": {
        "id": "6kV3-8zlddGZ",
        "outputId": "e61d5bf5-1c95-4801-9d44-5a78dc4736d5",
        "colab": {
          "base_uri": "https://localhost:8080/"
        }
      },
      "execution_count": null,
      "outputs": [
        {
          "output_type": "stream",
          "name": "stdout",
          "text": [
            "El area del circulo es 314.1592653589793\n"
          ]
        }
      ]
    },
    {
      "cell_type": "code",
      "source": [],
      "metadata": {
        "id": "Q-AYr_iydgCn"
      },
      "execution_count": null,
      "outputs": []
    }
  ]
}
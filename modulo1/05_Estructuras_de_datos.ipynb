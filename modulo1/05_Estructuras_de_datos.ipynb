{
  "cells": [
    {
      "cell_type": "markdown",
      "source": [
        "# Estructuras de datos en Python"
      ],
      "metadata": {
        "id": "EZtB6f4QT8IP"
      }
    },
    {
      "cell_type": "markdown",
      "metadata": {
        "id": "rvGSKDOkNxgO"
      },
      "source": [
        "### Variables\n",
        "\n",
        "Las variables son \"cajones\" en donde podemos almacenar información.\n",
        "Podemos guardar textos, números, símbolos, o incluso listas o arreglos enteros de valores.\n",
        "\n",
        "Veamos la forma más simple de declarar una variable:"
      ]
    },
    {
      "cell_type": "code",
      "execution_count": null,
      "metadata": {
        "id": "t9esraEpNxgO"
      },
      "outputs": [],
      "source": [
        "miVariable = 15"
      ]
    },
    {
      "cell_type": "code",
      "source": [
        "print(miVariable)"
      ],
      "metadata": {
        "colab": {
          "base_uri": "https://localhost:8080/"
        },
        "id": "ZYnt6XrGU4Nd",
        "outputId": "e0425cce-7ceb-4408-ea17-cd3c1c8acbe2"
      },
      "execution_count": null,
      "outputs": [
        {
          "output_type": "stream",
          "name": "stdout",
          "text": [
            "15\n"
          ]
        }
      ]
    },
    {
      "cell_type": "markdown",
      "metadata": {
        "id": "ljsPEfNrNxgP"
      },
      "source": [
        "¿Qué pasa si imprimimos miVariable?"
      ]
    },
    {
      "cell_type": "code",
      "execution_count": null,
      "metadata": {
        "id": "znQgRmKVNxgP",
        "colab": {
          "base_uri": "https://localhost:8080/"
        },
        "outputId": "02d270ca-2680-4685-d818-85fc47ef798d"
      },
      "outputs": [
        {
          "output_type": "stream",
          "name": "stdout",
          "text": [
            "El valor de MiVariable es  15\n"
          ]
        }
      ],
      "source": [
        "# Rellena con el comando que creas conveniente, por ejemplo:\n",
        "\n",
        "print(\"El valor de MiVariable es \",miVariable)"
      ]
    },
    {
      "cell_type": "markdown",
      "metadata": {
        "id": "bxUeZJT_NxgP"
      },
      "source": [
        "Las variables pueden cambiar fácilmente de valor"
      ]
    },
    {
      "cell_type": "code",
      "execution_count": null,
      "metadata": {
        "id": "u6w06M8_NxgP"
      },
      "outputs": [],
      "source": [
        "miVariable = 3\n",
        "otraVariable = 5"
      ]
    },
    {
      "cell_type": "code",
      "source": [
        "a = 5\n",
        "b = 6\n",
        "c = a + b"
      ],
      "metadata": {
        "id": "QDc4vExXVKPN"
      },
      "execution_count": null,
      "outputs": []
    },
    {
      "cell_type": "markdown",
      "metadata": {
        "id": "PdZipLQ9NxgQ"
      },
      "source": [
        "¿Qué pasa si ahora imprimimos el resultado?"
      ]
    },
    {
      "cell_type": "code",
      "execution_count": null,
      "metadata": {
        "id": "otqTiWu3NxgQ",
        "colab": {
          "base_uri": "https://localhost:8080/"
        },
        "outputId": "5355dc67-31ed-4bc8-9cd4-1b9ca0284c15"
      },
      "outputs": [
        {
          "output_type": "stream",
          "name": "stdout",
          "text": [
            "11\n"
          ]
        }
      ],
      "source": [
        "# Rellena con el comando que creas conveniente, por ejemplo:\n",
        "print(c)"
      ]
    },
    {
      "cell_type": "markdown",
      "metadata": {
        "id": "mIr-b3AWNxgQ"
      },
      "source": [
        "Las variables también pueden tener \"cuentas\" asociadas."
      ]
    },
    {
      "cell_type": "code",
      "execution_count": null,
      "metadata": {
        "id": "BpFd3BCGNxgQ",
        "colab": {
          "base_uri": "https://localhost:8080/"
        },
        "outputId": "f2bded88-efa5-432d-e0b1-93f0732ecb54"
      },
      "outputs": [
        {
          "output_type": "stream",
          "name": "stdout",
          "text": [
            "F(x) = 50\n"
          ]
        }
      ],
      "source": [
        "x = 7\n",
        "y = 1\n",
        "ecuacion = x**2 + y\n",
        "print(\"F(x) =\", ecuacion)"
      ]
    },
    {
      "cell_type": "markdown",
      "metadata": {
        "id": "VB1gM9ciNxgS"
      },
      "source": [
        "### Listas\n",
        "\n",
        "Las listas son conjuntos de valores que me permiten almacenar mucha información\n",
        "\n",
        "Se declaran parecido a una variable, pero cada elemento se separa por una coma, y todo el conjunto se encierra entre corchetes\n",
        "\n",
        "**Ejemplo:**\n",
        "miLista = [5,4,3,2,1]"
      ]
    },
    {
      "cell_type": "code",
      "execution_count": null,
      "metadata": {
        "id": "3qX0CXnQNxgS"
      },
      "outputs": [],
      "source": [
        "planetas = [\"Mercurio\",\"Venus\",\"Tierra\",\"Marte\",\"Júpiter\",\"Saturno\",\"Urano\",\"Neptuno\"]"
      ]
    },
    {
      "cell_type": "markdown",
      "metadata": {
        "id": "q7q89PkvNxgS"
      },
      "source": [
        "Si quiero ver un elemento de la lista, basta con poner el número del elemento entre corchetes.\n",
        "\n",
        "**Ejemplo:**\n",
        "miLista[0]\n",
        "\n",
        "_Nota: En Python, los elementos se cuentan a partir del cero, así que cuando nos referimos a miLista[0], me trae el primer elemento (5)_"
      ]
    },
    {
      "cell_type": "code",
      "execution_count": null,
      "metadata": {
        "id": "aV3r90qNNxgS",
        "colab": {
          "base_uri": "https://localhost:8080/"
        },
        "outputId": "ddbfed1f-3069-4e84-c212-758dc80db4b7"
      },
      "outputs": [
        {
          "output_type": "stream",
          "name": "stdout",
          "text": [
            "Marte\n"
          ]
        }
      ],
      "source": [
        "# ¿Cuál es el segundo planeta del sistema solar?\n",
        "print(planetas[3]) #rellenar"
      ]
    },
    {
      "cell_type": "markdown",
      "metadata": {
        "id": "MD-PLr1INxgT"
      },
      "source": [
        "Python admite números negativos! Si quiero el último elemento de una lista, basta con poner miLista[-1]"
      ]
    },
    {
      "cell_type": "code",
      "execution_count": null,
      "metadata": {
        "id": "s5nKlnG1NxgT",
        "colab": {
          "base_uri": "https://localhost:8080/",
          "height": 35
        },
        "outputId": "3bafd3a9-77d2-4e45-9038-b92416ea2c0c"
      },
      "outputs": [
        {
          "output_type": "execute_result",
          "data": {
            "text/plain": [
              "'Neptuno'"
            ],
            "application/vnd.google.colaboratory.intrinsic+json": {
              "type": "string"
            }
          },
          "metadata": {},
          "execution_count": 21
        }
      ],
      "source": [
        "# ¿Cual es el último planeta del sistema solar?\n",
        "planetas[-1]"
      ]
    },
    {
      "cell_type": "markdown",
      "metadata": {
        "id": "0AKUk1FWNxgT"
      },
      "source": [
        "El comando \"append\" nos permite agregar elementos en una lista.\n"
      ]
    },
    {
      "cell_type": "code",
      "execution_count": null,
      "metadata": {
        "id": "IWnvvdt7NxgT"
      },
      "outputs": [],
      "source": [
        "planetas.append(\"Plutón\")"
      ]
    },
    {
      "cell_type": "code",
      "execution_count": null,
      "metadata": {
        "id": "RyKhIuHINxgU",
        "colab": {
          "base_uri": "https://localhost:8080/",
          "height": 35
        },
        "outputId": "450b1294-d88b-4106-e79b-76ab0aafb51f"
      },
      "outputs": [
        {
          "output_type": "execute_result",
          "data": {
            "text/plain": [
              "'Plutón'"
            ],
            "application/vnd.google.colaboratory.intrinsic+json": {
              "type": "string"
            }
          },
          "metadata": {},
          "execution_count": 23
        }
      ],
      "source": [
        "# ¿Cual es el último planeta del sistema solar?\n",
        "planetas[-1]"
      ]
    },
    {
      "cell_type": "markdown",
      "metadata": {
        "id": "bGUDuWcJNxgU"
      },
      "source": [
        "***\n",
        "**Ejercicio:**\n",
        "Ejecutemos el siguiente código. ¿Qué es lo que hace?"
      ]
    },
    {
      "cell_type": "code",
      "execution_count": null,
      "metadata": {
        "id": "PAN50Rq9NxgU",
        "colab": {
          "base_uri": "https://localhost:8080/"
        },
        "outputId": "e63bf985-1035-4e8b-c44f-36222aa4d41d"
      },
      "outputs": [
        {
          "output_type": "stream",
          "name": "stdout",
          "text": [
            "F(x) = [26, 17, 10, 5, 2, 1, 2, 5, 10, 17, 26]\n"
          ]
        }
      ],
      "source": [
        "x = [-5,-4,-3,-2,-1,0,1,2,3,4,5]\n",
        "y = 1\n",
        "fx = [] #lista vacía\n",
        "\n",
        "for elemento in x:\n",
        "    fx.append(elemento**2 + y)\n",
        "\n",
        "print(f\"F(x) = {fx}\")"
      ]
    },
    {
      "cell_type": "code",
      "source": [
        "sensores = {\n",
        "    \"t_sala_control\":30,\n",
        "    \"t_oficina1\":24,\n",
        "    \"t_deposito\":16\n",
        "}"
      ],
      "metadata": {
        "id": "X2T72KN1XMw8"
      },
      "execution_count": null,
      "outputs": []
    },
    {
      "cell_type": "code",
      "source": [
        "print(\"la temperatura de la zona elegida es\",sensores[\"t_sala_control\"])"
      ],
      "metadata": {
        "colab": {
          "base_uri": "https://localhost:8080/"
        },
        "id": "jhDZDimMXhpO",
        "outputId": "075c83e2-879c-4703-975d-27d19ec0c063"
      },
      "execution_count": null,
      "outputs": [
        {
          "output_type": "stream",
          "name": "stdout",
          "text": [
            "la temperatura de la zona elegida es 30\n"
          ]
        }
      ]
    }
  ],
  "metadata": {
    "kernelspec": {
      "display_name": "Python 3",
      "name": "python3"
    },
    "language_info": {
      "name": "python"
    },
    "orig_nbformat": 4,
    "colab": {
      "provenance": []
    }
  },
  "nbformat": 4,
  "nbformat_minor": 0
}
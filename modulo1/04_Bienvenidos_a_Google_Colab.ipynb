{
  "nbformat": 4,
  "nbformat_minor": 0,
  "metadata": {
    "colab": {
      "provenance": []
    },
    "kernelspec": {
      "name": "python3",
      "display_name": "Python 3"
    },
    "language_info": {
      "name": "python"
    }
  },
  "cells": [
    {
      "cell_type": "markdown",
      "source": [
        "# Hola desde Google Colab\n",
        "Podemos usar cualquier código de Python en Google Colab"
      ],
      "metadata": {
        "id": "ULOFevcIL-lu"
      }
    },
    {
      "cell_type": "code",
      "source": [
        "print(\"Hola Mundo\")"
      ],
      "metadata": {
        "id": "i8P30WB5LxK0"
      },
      "execution_count": null,
      "outputs": []
    },
    {
      "cell_type": "markdown",
      "source": [
        "Podemos crear bloques que tengan una o varias líneas de código y ejecutarlos por separado. O podemos crear bloques de texto para documentar nuestro código"
      ],
      "metadata": {
        "id": "lQnI_IiIMKNJ"
      }
    },
    {
      "cell_type": "code",
      "source": [
        "nombre = ___ #completa tu nombre aquí\n",
        "print(\"Mi nombre es\", nombre)"
      ],
      "metadata": {
        "id": "3odrrS9dLzSa"
      },
      "execution_count": null,
      "outputs": []
    },
    {
      "cell_type": "markdown",
      "source": [
        "Los valores de las variables se mantienen entre bloques, siempre y cuando haya ejecutado los bloques una vez"
      ],
      "metadata": {
        "id": "8PMeSbNrMU2H"
      }
    },
    {
      "cell_type": "code",
      "source": [
        "print(f\"Yo me llamo {nombre}\")"
      ],
      "metadata": {
        "id": "V9r_zhkDL5AU"
      },
      "execution_count": null,
      "outputs": []
    },
    {
      "cell_type": "markdown",
      "source": [
        "¿Qué pasa si corro el bloque número 2 varias veces?"
      ],
      "metadata": {
        "id": "yUXiwHFHMaUM"
      }
    },
    {
      "cell_type": "code",
      "source": [
        "#Bloque 1\n",
        "numero = 0"
      ],
      "metadata": {
        "id": "lsec8hH_MjZB"
      },
      "execution_count": null,
      "outputs": []
    },
    {
      "cell_type": "code",
      "source": [
        "#Bloque 2\n",
        "numero = numero + 1\n",
        "print(\"El valor de la variable numero es\", numero)"
      ],
      "metadata": {
        "id": "w8WFWi6tMnS7"
      },
      "execution_count": null,
      "outputs": []
    },
    {
      "cell_type": "markdown",
      "source": [
        "## Juego"
      ],
      "metadata": {
        "id": "GdRNItrTM4k6"
      }
    },
    {
      "cell_type": "code",
      "source": [
        "import random\n",
        "\n",
        "numeroPC = random.randint(1,20)\n",
        "adivine = False\n",
        "\n",
        "while adivine==False:\n",
        "    numeroUsuario = int(input(\"Ingrese un número: \"))\n",
        "\n",
        "    if numeroPC == numeroUsuario:\n",
        "        print(\"Felicitaciones!\")\n",
        "        adivine = True\n",
        "    else:\n",
        "        if numeroUsuario > numeroPC:\n",
        "            print(\"Numero muy grande, probar uno mas pequeño\")\n",
        "        else:\n",
        "            print(\"Numero muy pequeño, probar uno mas grande\")\n"
      ],
      "metadata": {
        "id": "8EAntfwDM3Os"
      },
      "execution_count": null,
      "outputs": []
    }
  ]
}